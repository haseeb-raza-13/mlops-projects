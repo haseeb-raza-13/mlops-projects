{
 "cells": [
  {
   "cell_type": "markdown",
   "id": "f1ccd683",
   "metadata": {},
   "source": [
    "## MLFlow Projects"
   ]
  },
  {
   "cell_type": "code",
   "execution_count": 1,
   "id": "edde42fc",
   "metadata": {},
   "outputs": [],
   "source": [
    "import mlflow"
   ]
  },
  {
   "cell_type": "code",
   "execution_count": 2,
   "id": "e336d352",
   "metadata": {},
   "outputs": [],
   "source": [
    "mlflow.set_tracking_uri(\"http://127.0.0.1:5000\")"
   ]
  },
  {
   "cell_type": "code",
   "execution_count": 3,
   "id": "215e9721",
   "metadata": {},
   "outputs": [
    {
     "name": "stderr",
     "output_type": "stream",
     "text": [
      "2025/08/25 20:08:25 INFO mlflow.tracking.fluent: Experiment with name 'MLOps Project' does not exist. Creating a new experiment.\n"
     ]
    },
    {
     "data": {
      "text/plain": [
       "<Experiment: artifact_location='mlflow-artifacts:/711870552797126839', creation_time=1756134505121, experiment_id='711870552797126839', last_update_time=1756134505121, lifecycle_stage='active', name='MLOps Project', tags={}>"
      ]
     },
     "execution_count": 3,
     "metadata": {},
     "output_type": "execute_result"
    }
   ],
   "source": [
    "mlflow.set_experiment(\"MLOps Project\")"
   ]
  },
  {
   "cell_type": "code",
   "execution_count": 4,
   "id": "8884c04e",
   "metadata": {},
   "outputs": [
    {
     "name": "stdout",
     "output_type": "stream",
     "text": [
      "🏃 View run angry-sponge-881 at: http://127.0.0.1:5000/#/experiments/711870552797126839/runs/1679f9f17bff458c90bb4c36b3b5e6f3\n",
      "🧪 View experiment at: http://127.0.0.1:5000/#/experiments/711870552797126839\n"
     ]
    }
   ],
   "source": [
    "with mlflow.start_run():\n",
    "    mlflow.log_metric('Haseeb', 1)\n",
    "    mlflow.log_metric('Ali',2)"
   ]
  },
  {
   "cell_type": "code",
   "execution_count": 5,
   "id": "55bbcbc7",
   "metadata": {},
   "outputs": [
    {
     "name": "stdout",
     "output_type": "stream",
     "text": [
      "🏃 View run sincere-rat-907 at: http://127.0.0.1:5000/#/experiments/711870552797126839/runs/22931b4c35ca4a89891dc7b1e35d626b\n",
      "🧪 View experiment at: http://127.0.0.1:5000/#/experiments/711870552797126839\n"
     ]
    }
   ],
   "source": [
    "with mlflow.start_run():\n",
    "    mlflow.log_metric('Haseeb', 2)\n",
    "    mlflow.log_metric('Ali',1)"
   ]
  },
  {
   "cell_type": "code",
   "execution_count": null,
   "id": "3dd6194a",
   "metadata": {},
   "outputs": [],
   "source": []
  }
 ],
 "metadata": {
  "kernelspec": {
   "display_name": "Python 3",
   "language": "python",
   "name": "python3"
  },
  "language_info": {
   "codemirror_mode": {
    "name": "ipython",
    "version": 3
   },
   "file_extension": ".py",
   "mimetype": "text/x-python",
   "name": "python",
   "nbconvert_exporter": "python",
   "pygments_lexer": "ipython3",
   "version": "3.12.0"
  }
 },
 "nbformat": 4,
 "nbformat_minor": 5
}
