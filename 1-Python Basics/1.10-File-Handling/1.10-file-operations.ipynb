{
 "cells": [
  {
   "cell_type": "markdown",
   "id": "d6e64eb5",
   "metadata": {},
   "source": [
    "## File Operations in Python\n"
   ]
  },
  {
   "cell_type": "code",
   "execution_count": 1,
   "id": "59952583",
   "metadata": {},
   "outputs": [],
   "source": [
    "## File Modes available in Python\n",
    "\n",
    "## w : write mode\n",
    "## r : read mode\n",
    "## a : append\n",
    "## wb : write byte\n",
    "## rb : read byte mode\n",
    "## w+ : "
   ]
  },
  {
   "cell_type": "code",
   "execution_count": 3,
   "id": "d59341b9",
   "metadata": {},
   "outputs": [
    {
     "name": "stdout",
     "output_type": "stream",
     "text": [
      "Microinformatics is doing an exceptional by providing students with expert mentorship.\n",
      "The mentorship program is a great initiative by Microinformatics.\n",
      "It has helped me to gain a deeper insight with respect to data science and ai.\n",
      "\n"
     ]
    }
   ],
   "source": [
    "with open('example.txt', 'r') as file:\n",
    "    content = file.read()\n",
    "\n",
    "print(content)"
   ]
  },
  {
   "cell_type": "code",
   "execution_count": 4,
   "metadata": {},
   "outputs": [
    {
     "name": "stdout",
     "output_type": "stream",
     "text": [
      "the file has been written\n"
     ]
    }
   ],
   "source": [
    "## Overriding the existing \n",
    "\n",
    "with open('example.txt','w' ) as file:\n",
    "    file.write('Haseeb is a data scientist. \\n')\n",
    "    file.write('He is a python developer.')\n",
    "    print('the file has been written')\n",
    "\n"
   ]
  },
  {
   "cell_type": "code",
   "execution_count": 6,
   "id": "125cdf43",
   "metadata": {},
   "outputs": [
    {
     "name": "stdout",
     "output_type": "stream",
     "text": [
      "Haseeb is a data scientist. \n",
      "He is a python developer.\n",
      " This is some new content.\n",
      "This is some new content.\n",
      "\n"
     ]
    }
   ],
   "source": [
    "## Adding the content to an existing txt file\n",
    "\n",
    "with open('example.txt', 'a') as file:\n",
    "    file.write('This is some new content.\\n')\n",
    "\n",
    "\n",
    "with open('example.txt', 'r') as file:\n",
    "    print(file.read())"
   ]
  },
  {
   "cell_type": "code",
   "execution_count": 7,
   "id": "aff2e284",
   "metadata": {},
   "outputs": [
    {
     "name": "stdout",
     "output_type": "stream",
     "text": [
      "File has been generated\n"
     ]
    }
   ],
   "source": [
    "## write a binary file using python\n",
    "\n",
    "data = b'\\x00\\x01\\x02\\x03'\n",
    "\n",
    "with open('binary_file.bin', 'wb') as file:\n",
    "    file.write(data)\n",
    "    print('File has been generated')"
   ]
  },
  {
   "cell_type": "code",
   "execution_count": 8,
   "id": "917fb97d",
   "metadata": {},
   "outputs": [
    {
     "name": "stdout",
     "output_type": "stream",
     "text": [
      "b'\\x00\\x01\\x02\\x03'\n"
     ]
    }
   ],
   "source": [
    "with open('binary_file.bin', 'rb') as file:\n",
    "    content = file.read()\n",
    "    print(content)"
   ]
  },
  {
   "cell_type": "code",
   "execution_count": 13,
   "id": "f82cb202",
   "metadata": {},
   "outputs": [
    {
     "name": "stdout",
     "output_type": "stream",
     "text": [
      "Hello, world! \n",
      "it's 8:18 right now.\n"
     ]
    }
   ],
   "source": [
    "## writing and reading at the same time ---> w+\n",
    "\n",
    "with open('new_text.txt', 'w+') as file:\n",
    "    file.write('Hello, world! \\n')\n",
    "    file.write(\"it's 8:18 right now.\")\n",
    "\n",
    "    ## \n",
    "    file.seek(0)\n",
    "\n",
    "    \n",
    "    content = file.read()\n",
    "    print(content)\n"
   ]
  }
 ],
 "metadata": {
  "kernelspec": {
   "display_name": "Python 3",
   "language": "python",
   "name": "python3"
  },
  "language_info": {
   "codemirror_mode": {
    "name": "ipython",
    "version": 3
   },
   "file_extension": ".py",
   "mimetype": "text/x-python",
   "name": "python",
   "nbconvert_exporter": "python",
   "pygments_lexer": "ipython3",
   "version": "3.12.0"
  }
 },
 "nbformat": 4,
 "nbformat_minor": 5
}
