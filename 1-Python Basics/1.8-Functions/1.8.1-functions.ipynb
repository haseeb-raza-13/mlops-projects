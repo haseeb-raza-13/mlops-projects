{
 "cells": [
  {
   "cell_type": "markdown",
   "id": "0dd218f8",
   "metadata": {},
   "source": [
    "## Functions in Python\n",
    "\n",
    "- Define\n",
    "- Call\n",
    "- Default Arguments\n",
    "- Variable Length Arguments\n",
    "- Lambda Functions\n",
    "- map function\n",
    "- filter function"
   ]
  },
  {
   "cell_type": "code",
   "execution_count": 1,
   "id": "08bc3bbd",
   "metadata": {},
   "outputs": [
    {
     "name": "stdout",
     "output_type": "stream",
     "text": [
      "21 is odd\n"
     ]
    }
   ],
   "source": [
    "## Structure of a function\n",
    "\n",
    "num = 21\n",
    "\n",
    "if num%2==0:\n",
    "    print(num,\"is even\")\n",
    "else:\n",
    "    print(num,\"is odd\")\n",
    "\n"
   ]
  },
  {
   "cell_type": "code",
   "execution_count": null,
   "id": "8bcfca72",
   "metadata": {},
   "outputs": [],
   "source": [
    "## def name_of_function(parameter/argument):\n",
    "##       \"\"\" Doc String \"\"\"\n",
    "##         body of the function\n",
    "##         return Expression"
   ]
  },
  {
   "cell_type": "code",
   "execution_count": null,
   "id": "372466ff",
   "metadata": {},
   "outputs": [],
   "source": [
    "## Defining a function\n",
    "def even_or_odd(number):\n",
    "    ## description\n",
    "    if number % 2!=0:\n",
    "        print(f\"The {number} is an odd number.\")\n",
    "    else:\n",
    "        print(f\"The {number} is an even number.\")\n"
   ]
  },
  {
   "cell_type": "code",
   "execution_count": null,
   "id": "0093b9bb",
   "metadata": {},
   "outputs": [
    {
     "name": "stdout",
     "output_type": "stream",
     "text": [
      "The 50 is an even number.\n"
     ]
    }
   ],
   "source": [
    "\n",
    "## Calling a function\n",
    "num = 50\n",
    "even_or_odd(num)"
   ]
  },
  {
   "cell_type": "code",
   "execution_count": 10,
   "id": "4b9ee8ae",
   "metadata": {},
   "outputs": [],
   "source": [
    "## Function with multiple arguments\n",
    "\n",
    "def add(a,b):\n",
    "    return a + b\n",
    "\n",
    "def div(a,b):\n",
    "    if b == 0:\n",
    "        return \"Error: Division by zero is not allowed\"\n",
    "    else:\n",
    "        result = a / b\n",
    "    \n",
    "    return result\n"
   ]
  },
  {
   "cell_type": "code",
   "execution_count": 11,
   "id": "7018b40f",
   "metadata": {},
   "outputs": [
    {
     "name": "stdout",
     "output_type": "stream",
     "text": [
      "4\n",
      "0.6666666666666666\n"
     ]
    }
   ],
   "source": [
    "print(add(1,3))\n",
    "print(div(2,3))"
   ]
  },
  {
   "cell_type": "code",
   "execution_count": 15,
   "id": "121e71c3",
   "metadata": {},
   "outputs": [
    {
     "data": {
      "text/plain": [
       "'Hey Guest, welcome to UAF.'"
      ]
     },
     "execution_count": 15,
     "metadata": {},
     "output_type": "execute_result"
    }
   ],
   "source": [
    "## Function with default parameter\n",
    "\n",
    "def greet(name=\"Guest\"):\n",
    "    return f\"Hey {name}, welcome to UAF.\"\n",
    "\n",
    "greet()"
   ]
  },
  {
   "cell_type": "code",
   "execution_count": 17,
   "id": "92ccb0dc",
   "metadata": {},
   "outputs": [
    {
     "name": "stdout",
     "output_type": "stream",
     "text": [
      "1\n",
      "2\n",
      "3\n",
      "4\n",
      "5\n",
      "6\n",
      "7\n",
      "8\n",
      "Haseeb\n",
      "Rubab\n"
     ]
    }
   ],
   "source": [
    "## Variable length Arguments\n",
    "## Positional and Key word arguments\n",
    "\n",
    "def print_function(*args):\n",
    "    for arg in args:\n",
    "        print(arg)\n",
    "\n",
    "print_function(1,2,3,4,5,6,7,8, \"Haseeb\", \"Rubab\")"
   ]
  },
  {
   "cell_type": "code",
   "execution_count": 18,
   "id": "8183b422",
   "metadata": {},
   "outputs": [
    {
     "name": "stdout",
     "output_type": "stream",
     "text": [
      "name: haseeb\n",
      "age: 21\n",
      "inst: UAF\n"
     ]
    }
   ],
   "source": [
    "def print_dict(**kwargs):\n",
    "    for key, value in kwargs.items():\n",
    "        print(f\"{key}: {value}\")\n",
    "\n",
    "print_dict(name=\"haseeb\", age=\"21\", inst= \"UAF\")"
   ]
  },
  {
   "cell_type": "code",
   "execution_count": 19,
   "id": "7de81ae6",
   "metadata": {},
   "outputs": [
    {
     "name": "stdout",
     "output_type": "stream",
     "text": [
      "1 1 2 4 5 Haseeb Faisalabad inst=UAF degree=Microbiology "
     ]
    }
   ],
   "source": [
    "def print_gen(*args, **kwargs):\n",
    "    for arg in args:\n",
    "        print(arg, end=' ')\n",
    "    \n",
    "    for key,value in kwargs.items():\n",
    "        print(f'{key}={value}', end=' ')\n",
    "\n",
    "\n",
    "\n",
    "print_gen(1,1,2,4,5,'Haseeb', 'Faisalabad', inst=\"UAF\", degree=\"Microbiology\")"
   ]
  },
  {
   "cell_type": "code",
   "execution_count": 23,
   "id": "58a8a111",
   "metadata": {},
   "outputs": [
    {
     "data": {
      "text/plain": [
       "81"
      ]
     },
     "execution_count": 23,
     "metadata": {},
     "output_type": "execute_result"
    }
   ],
   "source": [
    "## Functions with return key word only\n",
    "\n",
    "def square(a):\n",
    "    result = a ** 2\n",
    "    return result\n",
    "    \n",
    "\n",
    "square(9)"
   ]
  },
  {
   "cell_type": "markdown",
   "id": "57c2589c",
   "metadata": {},
   "source": [
    "## Lambda Function"
   ]
  },
  {
   "cell_type": "code",
   "execution_count": 25,
   "id": "7c864a68",
   "metadata": {},
   "outputs": [
    {
     "data": {
      "text/plain": [
       "25"
      ]
     },
     "execution_count": 25,
     "metadata": {},
     "output_type": "execute_result"
    }
   ],
   "source": [
    "## lambda argument: expression\n",
    "\n",
    "\n",
    "sqr = lambda x: x**2\n",
    "\n",
    "sqr(5)"
   ]
  },
  {
   "cell_type": "code",
   "execution_count": 26,
   "id": "572282a0",
   "metadata": {},
   "outputs": [
    {
     "name": "stdout",
     "output_type": "stream",
     "text": [
      "9\n"
     ]
    }
   ],
   "source": [
    "addition = lambda x,y: x+y\n",
    "\n",
    "print(addition(4,5))"
   ]
  },
  {
   "cell_type": "markdown",
   "id": "fafc7e43",
   "metadata": {},
   "source": [
    "## Map Function"
   ]
  },
  {
   "cell_type": "code",
   "execution_count": 29,
   "id": "31abc2b2",
   "metadata": {},
   "outputs": [
    {
     "data": {
      "text/plain": [
       "[False, True, False, True, False, True]"
      ]
     },
     "execution_count": 29,
     "metadata": {},
     "output_type": "execute_result"
    }
   ],
   "source": [
    "\n",
    "\n",
    "num1 = [1,2,3,4,5,6]\n",
    "\n",
    "even = lambda x:x%2==0\n",
    "\n",
    "list(map(even, num1))\n",
    "\n",
    "\n",
    "\n"
   ]
  },
  {
   "cell_type": "code",
   "execution_count": 30,
   "id": "83af05e8",
   "metadata": {},
   "outputs": [],
   "source": [
    "def cube(num):\n",
    "    if num>5:\n",
    "        return num ** 3\n",
    "\n"
   ]
  },
  {
   "cell_type": "code",
   "execution_count": 31,
   "id": "b01d0965",
   "metadata": {},
   "outputs": [
    {
     "name": "stdout",
     "output_type": "stream",
     "text": [
      "[None, None, 216, 216, 1000, None, None, None, 343, 729]\n"
     ]
    }
   ],
   "source": [
    "num2 = [4,5,6,6,10,0,1,2,7,9]\n",
    "\n",
    "cube_result = list(map(cube, num2))\n",
    "\n",
    "print(cube_result)"
   ]
  },
  {
   "cell_type": "markdown",
   "id": "683408a6",
   "metadata": {},
   "source": [
    "## Filter Function"
   ]
  },
  {
   "cell_type": "code",
   "execution_count": 32,
   "id": "313c1fd4",
   "metadata": {},
   "outputs": [
    {
     "name": "stdout",
     "output_type": "stream",
     "text": [
      "[4, 6, 6, 10, 0, 2]\n"
     ]
    }
   ],
   "source": [
    "def even(num):\n",
    "    if num % 2 == 0:\n",
    "        return True\n",
    "    \n",
    "\n",
    "num2 = [4,5,6,6,10,0,1,2,7,9]\n",
    "\n",
    "filtered_numbers = list(filter(even, num2))\n",
    "\n",
    "print(filtered_numbers)\n"
   ]
  }
 ],
 "metadata": {
  "kernelspec": {
   "display_name": "Python 3",
   "language": "python",
   "name": "python3"
  },
  "language_info": {
   "codemirror_mode": {
    "name": "ipython",
    "version": 3
   },
   "file_extension": ".py",
   "mimetype": "text/x-python",
   "name": "python",
   "nbconvert_exporter": "python",
   "pygments_lexer": "ipython3",
   "version": "3.12.0"
  }
 },
 "nbformat": 4,
 "nbformat_minor": 5
}
