{
 "cells": [
  {
   "cell_type": "markdown",
   "id": "5337e4df",
   "metadata": {},
   "source": [
    "## Operators \n",
    "## Types of Operators \n",
    "- Arithematic\n",
    "- Logical\n",
    "- Comparison\n"
   ]
  },
  {
   "cell_type": "markdown",
   "id": "83fc6574",
   "metadata": {},
   "source": [
    "### Arithematic Operators "
   ]
  },
  {
   "cell_type": "code",
   "execution_count": 1,
   "id": "59aa562d",
   "metadata": {},
   "outputs": [
    {
     "name": "stdout",
     "output_type": "stream",
     "text": [
      "0.75\n",
      "0\n",
      "0\n"
     ]
    }
   ],
   "source": [
    "## +\n",
    "## -\n",
    "## /\n",
    "## //\n",
    "## %\n",
    "\n",
    "div = 3/4\n",
    "floor_div = 3//4\n",
    "modulo = 4%2\n",
    "\n",
    "\n",
    "print(div)\n",
    "print(floor_div)\n",
    "print(modulo)\n",
    "\n"
   ]
  },
  {
   "cell_type": "code",
   "execution_count": 3,
   "id": "3dbcb4a1",
   "metadata": {},
   "outputs": [
    {
     "name": "stdout",
     "output_type": "stream",
     "text": [
      "True\n"
     ]
    }
   ],
   "source": [
    "## Comparison Operators \n",
    "\n",
    "gene_1 = \"ATTTGGACA\"\n",
    "gene_2 = \"ATTTAGACA\"\n",
    "\n",
    "print(gene_1 != gene_2)\n",
    "\n",
    "\n"
   ]
  },
  {
   "cell_type": "code",
   "execution_count": null,
   "id": "6544c644",
   "metadata": {},
   "outputs": [],
   "source": [
    "## ==\n",
    "## != \n",
    "## <=\n",
    "## >= \n",
    "## <\n",
    "## >"
   ]
  },
  {
   "cell_type": "code",
   "execution_count": 5,
   "id": "df83fc61",
   "metadata": {},
   "outputs": [
    {
     "data": {
      "text/plain": [
       "False"
      ]
     },
     "execution_count": 5,
     "metadata": {},
     "output_type": "execute_result"
    }
   ],
   "source": [
    "## Logical Operators \n",
    "\n",
    "## and\n",
    "## or \n",
    "## not\n",
    "\n",
    "\n",
    "x = False\n",
    "y = True\n",
    "\n",
    "x and y"
   ]
  },
  {
   "cell_type": "code",
   "execution_count": 7,
   "id": "97f6f115",
   "metadata": {},
   "outputs": [
    {
     "data": {
      "text/plain": [
       "False"
      ]
     },
     "execution_count": 7,
     "metadata": {},
     "output_type": "execute_result"
    }
   ],
   "source": [
    "## or\n",
    "x = False\n",
    "y = False\n",
    "\n",
    "x or y"
   ]
  },
  {
   "cell_type": "code",
   "execution_count": 8,
   "id": "2e32d742",
   "metadata": {},
   "outputs": [
    {
     "data": {
      "text/plain": [
       "False"
      ]
     },
     "execution_count": 8,
     "metadata": {},
     "output_type": "execute_result"
    }
   ],
   "source": [
    "## Not \n",
    "x= True \n",
    "\n",
    "not x"
   ]
  }
 ],
 "metadata": {
  "kernelspec": {
   "display_name": "Python 3",
   "language": "python",
   "name": "python3"
  },
  "language_info": {
   "codemirror_mode": {
    "name": "ipython",
    "version": 3
   },
   "file_extension": ".py",
   "mimetype": "text/x-python",
   "name": "python",
   "nbconvert_exporter": "python",
   "pygments_lexer": "ipython3",
   "version": "3.12.0"
  }
 },
 "nbformat": 4,
 "nbformat_minor": 5
}
