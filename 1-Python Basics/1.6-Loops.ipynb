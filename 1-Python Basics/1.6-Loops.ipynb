{
 "cells": [
  {
   "cell_type": "markdown",
   "id": "b2dad8e1",
   "metadata": {},
   "source": [
    "## Loops in Python\n",
    "- For Loop\n",
    "- While Loop\n",
    "\n",
    "## Loop Control Statements\n",
    "- Pass\n",
    "- Continue\n",
    "- Break"
   ]
  },
  {
   "cell_type": "code",
   "execution_count": 3,
   "id": "c76038c1",
   "metadata": {},
   "outputs": [
    {
     "name": "stdout",
     "output_type": "stream",
     "text": [
      "12 14 22 22 24 "
     ]
    }
   ],
   "source": [
    "## 1- For Loop\n",
    "\n",
    "age = [12,21,14,15,31,21,22,22,24]\n",
    "\n",
    "for i in age:\n",
    "    if i%2==0:\n",
    "        print(i, end=' ')\n",
    "        "
   ]
  },
  {
   "cell_type": "code",
   "execution_count": 6,
   "id": "561491b9",
   "metadata": {},
   "outputs": [
    {
     "name": "stdout",
     "output_type": "stream",
     "text": [
      "1 3 5 7 9 11 13 15 17 19 21 23 25 27 29 31 33 35 37 39 41 43 45 47 49 51 53 55 57 59 61 63 65 67 69 71 73 75 77 79 81 83 85 87 89 91 93 95 97 99 "
     ]
    }
   ],
   "source": [
    "for i in range(100):\n",
    "    if i%2!=0:\n",
    "        print(i, end= \" \")"
   ]
  },
  {
   "cell_type": "code",
   "execution_count": null,
   "id": "2b7fd9e5",
   "metadata": {},
   "outputs": [
    {
     "name": "stdout",
     "output_type": "stream",
     "text": [
      "4950\n"
     ]
    }
   ],
   "source": [
    "\n",
    "## Tricky question\n",
    "sum = 0\n",
    "for i in range(100):\n",
    "    sum += i \n",
    "    \n",
    "print(sum)"
   ]
  },
  {
   "cell_type": "code",
   "execution_count": 11,
   "id": "5ab5cee5",
   "metadata": {},
   "outputs": [
    {
     "name": "stdout",
     "output_type": "stream",
     "text": [
      "93326215443944152681699238856266700490715968264381621468592963895217599993229915608941463976156518286253697920827223758251185210916864000000000000000000000000\n"
     ]
    }
   ],
   "source": [
    "## While Loop\n",
    "\n",
    "num = 100\n",
    "fact = 1\n",
    "count = 1\n",
    "while count<=num:\n",
    "    fact = fact * count\n",
    "    count += 1\n",
    "\n",
    "print(fact)\n"
   ]
  },
  {
   "cell_type": "code",
   "execution_count": 12,
   "id": "78e943da",
   "metadata": {},
   "outputs": [
    {
     "name": "stdout",
     "output_type": "stream",
     "text": [
      "93326215443944152681699238856266700490715968264381621468592963895217599993229915608941463976156518286253697920827223758251185210916864000000000000000000000000\n"
     ]
    }
   ],
   "source": [
    "## While Loop\n",
    "\n",
    "num = 1\n",
    "count = 100\n",
    "fact = 1\n",
    "\n",
    "while count>=1:\n",
    "    fact = fact * count\n",
    "    count -= 1\n",
    "\n",
    "print(fact)\n",
    "\n"
   ]
  },
  {
   "cell_type": "markdown",
   "id": "f4c11a2d",
   "metadata": {},
   "source": [
    "## Loop Control Statements"
   ]
  },
  {
   "cell_type": "code",
   "execution_count": 13,
   "id": "fdc495a2",
   "metadata": {},
   "outputs": [],
   "source": [
    "## Pass statement\n",
    "\n",
    "for i in range(100):\n",
    "    pass\n",
    "\n"
   ]
  },
  {
   "cell_type": "code",
   "execution_count": 15,
   "id": "5f1b2064",
   "metadata": {},
   "outputs": [
    {
     "name": "stdout",
     "output_type": "stream",
     "text": [
      "1 3 5 7 9 "
     ]
    }
   ],
   "source": [
    "## Continue\n",
    "\n",
    "for i in range(10):\n",
    "    if i%2==0:\n",
    "        continue\n",
    "    print(i, end=\" \")"
   ]
  },
  {
   "cell_type": "code",
   "execution_count": 16,
   "id": "d775f6fd",
   "metadata": {},
   "outputs": [
    {
     "name": "stdout",
     "output_type": "stream",
     "text": [
      "0 1 2 3 4 5 6 7 8 9 10 11 12 13 14 15 16 17 18 19 20 21 22 23 24 25 26 27 28 29 30 31 32 33 34 35 36 37 "
     ]
    }
   ],
   "source": [
    "for i in range(50):\n",
    "    if i==38:\n",
    "        break\n",
    "    print(i, end=\" \")"
   ]
  },
  {
   "cell_type": "markdown",
   "id": "ed504b98",
   "metadata": {},
   "source": [
    "## Nested Loops"
   ]
  },
  {
   "cell_type": "code",
   "execution_count": 17,
   "id": "ff274d1b",
   "metadata": {},
   "outputs": [
    {
     "name": "stdout",
     "output_type": "stream",
     "text": [
      " 0:Haseeb\n",
      " 0:Ali\n",
      " 0:Mubeen\n",
      " 1:Haseeb\n",
      " 1:Ali\n",
      " 1:Mubeen\n",
      " 2:Haseeb\n",
      " 2:Ali\n",
      " 2:Mubeen\n"
     ]
    }
   ],
   "source": [
    "## Nested Loop\n",
    "\n",
    "names = ['Haseeb', 'Ali', 'Mubeen']\n",
    "\n",
    "for i in range(3):\n",
    "    for j in names:\n",
    "        print(f\" {i}:{j}\")"
   ]
  },
  {
   "cell_type": "code",
   "execution_count": 18,
   "id": "4327a719",
   "metadata": {},
   "outputs": [
    {
     "name": "stdout",
     "output_type": "stream",
     "text": [
      "0 \n",
      "1 \n",
      "4 \n",
      "9 \n",
      "16 \n",
      "25 \n",
      "36 \n",
      "49 \n",
      "64 \n",
      "81 \n"
     ]
    }
   ],
   "source": [
    "def square(a):\n",
    "    return a**2\n",
    "\n",
    "for i in range(10):\n",
    "    print(f\"{ square(i)} \")"
   ]
  },
  {
   "cell_type": "code",
   "execution_count": 20,
   "id": "2df27be8",
   "metadata": {},
   "outputs": [
    {
     "name": "stdout",
     "output_type": "stream",
     "text": [
      "Haseeb Ali Mubeen Hareem Sadaf Saiqa Abdul Manan Reem Ubaid "
     ]
    }
   ],
   "source": [
    "names = [ ['Haseeb', 'Ali', 'Mubeen'],\n",
    "          ['Hareem', 'Sadaf', 'Saiqa'],\n",
    "          ['Abdul Manan','Reem', 'Ubaid' ] ]\n",
    "\n",
    "for i in names:\n",
    "    for j in i:\n",
    "        print(j, end=' ')\n"
   ]
  },
  {
   "cell_type": "code",
   "execution_count": 21,
   "id": "8363ead6",
   "metadata": {},
   "outputs": [
    {
     "data": {
      "text/plain": [
       "'Haseeb'"
      ]
     },
     "execution_count": 21,
     "metadata": {},
     "output_type": "execute_result"
    }
   ],
   "source": [
    "names[0][0]"
   ]
  }
 ],
 "metadata": {
  "kernelspec": {
   "display_name": "Python 3",
   "language": "python",
   "name": "python3"
  },
  "language_info": {
   "codemirror_mode": {
    "name": "ipython",
    "version": 3
   },
   "file_extension": ".py",
   "mimetype": "text/x-python",
   "name": "python",
   "nbconvert_exporter": "python",
   "pygments_lexer": "ipython3",
   "version": "3.12.0"
  }
 },
 "nbformat": 4,
 "nbformat_minor": 5
}
