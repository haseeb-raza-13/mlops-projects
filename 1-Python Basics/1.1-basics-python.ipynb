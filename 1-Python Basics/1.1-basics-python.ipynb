{
 "cells": [
  {
   "cell_type": "markdown",
   "id": "b6afe50c",
   "metadata": {},
   "source": [
    "## Day-1st - Python Programming"
   ]
  },
  {
   "cell_type": "code",
   "execution_count": null,
   "id": "3648525f",
   "metadata": {},
   "outputs": [],
   "source": [
    "## Syntax, Semantics\n",
    "## Single Line, Multiline comments\n",
    "## Case Sensitivity\n",
    "## Indentation\n",
    "## Line Continuation\n",
    "## Multiple statements in one line"
   ]
  },
  {
   "cell_type": "code",
   "execution_count": 4,
   "id": "10af43d8",
   "metadata": {},
   "outputs": [],
   "source": [
    "## Syntax: words, letters, symbols/ how to write the code.\n",
    "## Semantics: what the code is supposed to do. "
   ]
  },
  {
   "cell_type": "code",
   "execution_count": 5,
   "id": "754659da",
   "metadata": {},
   "outputs": [
    {
     "name": "stdout",
     "output_type": "stream",
     "text": [
      "haseeb is doing coding\n"
     ]
    }
   ],
   "source": [
    "## Single Line Comment \n",
    "print(\"haseeb is doing coding\") ## Haseeb is writing a single line comment"
   ]
  },
  {
   "cell_type": "code",
   "execution_count": null,
   "id": "3b980c55",
   "metadata": {},
   "outputs": [],
   "source": [
    "## Multiline Comments\n",
    "## for python files ---"
   ]
  },
  {
   "cell_type": "code",
   "execution_count": 6,
   "id": "6030acc9",
   "metadata": {},
   "outputs": [],
   "source": [
    "## Case Sensitivity\n",
    "name = \"Haseeb\"\n",
    "Name = \"Raza\""
   ]
  },
  {
   "cell_type": "code",
   "execution_count": 7,
   "id": "0ed656dc",
   "metadata": {},
   "outputs": [
    {
     "name": "stdout",
     "output_type": "stream",
     "text": [
      "Haseeb\n",
      "Raza\n"
     ]
    }
   ],
   "source": [
    "print(name)\n",
    "print(Name)"
   ]
  },
  {
   "cell_type": "code",
   "execution_count": 8,
   "id": "96b7a373",
   "metadata": {},
   "outputs": [
    {
     "name": "stdout",
     "output_type": "stream",
     "text": [
      "You are an adult\n"
     ]
    }
   ],
   "source": [
    "## Indentation: 4-spaces / one-tab\n",
    "\n",
    "age=23\n",
    "\n",
    "if age>21:\n",
    "    print(\"You are an adult\")"
   ]
  },
  {
   "cell_type": "code",
   "execution_count": 10,
   "id": "82b7067d",
   "metadata": {},
   "outputs": [
    {
     "name": "stdout",
     "output_type": "stream",
     "text": [
      "You are under age.\n"
     ]
    }
   ],
   "source": [
    "if age<25:\n",
    "    print(\"You are under age.\")"
   ]
  },
  {
   "cell_type": "code",
   "execution_count": 11,
   "id": "ae3fafb9",
   "metadata": {},
   "outputs": [
    {
     "name": "stdout",
     "output_type": "stream",
     "text": [
      "266\n"
     ]
    }
   ],
   "source": [
    "## Line Continuation\n",
    "\n",
    "total = 1+2+67+21+50+41+\\\n",
    "34+50\n",
    "\n",
    "print(total)"
   ]
  },
  {
   "cell_type": "code",
   "execution_count": 13,
   "id": "0f58b323",
   "metadata": {},
   "outputs": [
    {
     "name": "stdout",
     "output_type": "stream",
     "text": [
      "3\n",
      "21\n",
      "45\n"
     ]
    }
   ],
   "source": [
    "## MUltiple statements in one line\n",
    "\n",
    "x=3;y=21;z=45\n",
    "print(x);print(y);print(z)\n"
   ]
  }
 ],
 "metadata": {
  "kernelspec": {
   "display_name": "Python 3",
   "language": "python",
   "name": "python3"
  },
  "language_info": {
   "codemirror_mode": {
    "name": "ipython",
    "version": 3
   },
   "file_extension": ".py",
   "mimetype": "text/x-python",
   "name": "python",
   "nbconvert_exporter": "python",
   "pygments_lexer": "ipython3",
   "version": "3.12.0"
  }
 },
 "nbformat": 4,
 "nbformat_minor": 5
}
