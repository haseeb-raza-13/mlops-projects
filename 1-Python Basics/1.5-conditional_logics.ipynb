{
 "cells": [
  {
   "cell_type": "markdown",
   "id": "3289a1c1",
   "metadata": {},
   "source": [
    "## Conditional Logics in Python\n",
    "- if , else, elif\n",
    "- nested if-else,\n",
    "- real world"
   ]
  },
  {
   "cell_type": "code",
   "execution_count": 3,
   "id": "8efad953",
   "metadata": {},
   "outputs": [
    {
     "name": "stdout",
     "output_type": "stream",
     "text": [
      "You are eligible for voting.\n"
     ]
    }
   ],
   "source": [
    "age = 21\n",
    "\n",
    "if age>18:\n",
    "    print(\"You are eligible for voting.\")"
   ]
  },
  {
   "cell_type": "code",
   "execution_count": 6,
   "metadata": {},
   "outputs": [
    {
     "name": "stdout",
     "output_type": "stream",
     "text": [
      "You are not eligible\n"
     ]
    }
   ],
   "source": [
    "age = 13\n",
    "\n",
    "if age>18:\n",
    "    print(\"you are eligible for voting.\")\n",
    "\n",
    "else:\n",
    "    print(\"You are not eligible\")\n"
   ]
  },
  {
   "cell_type": "code",
   "execution_count": 12,
   "id": "815ba24e",
   "metadata": {},
   "outputs": [
    {
     "name": "stdout",
     "output_type": "stream",
     "text": [
      "You are younger.\n"
     ]
    }
   ],
   "source": [
    "age = 15\n",
    "\n",
    "if age>18:\n",
    "    print(\"you are eligible for voting.\")\n",
    "elif age<18:\n",
    "    print(\"You are younger.\")\n",
    "elif age!=int:\n",
    "    print(\"Invalid age.\")\n",
    "else:\n",
    "    print(\" You are not eligible\")\n",
    "\n",
    "\n",
    "\n",
    "\n"
   ]
  },
  {
   "cell_type": "code",
   "execution_count": 18,
   "metadata": {},
   "outputs": [
    {
     "name": "stdout",
     "output_type": "stream",
     "text": [
      "Division by zero is not possible, change the number.\n"
     ]
    }
   ],
   "source": [
    "## Simple Calculator with the help of nested if-else\n",
    "\n",
    "num_1 = int(input(\"Enter a number:\"))\n",
    "num_2 = int(input(\"Enter the second number:\"))\n",
    "operation = input(\"Enter an operation(+,-,*,/,//,%):\")\n",
    "\n",
    "if operation=='+':\n",
    "    sum = num_1 + num_2\n",
    "    print(sum)\n",
    "elif operation=='-':\n",
    "    diff = num_1 - num_2\n",
    "    print(diff)\n",
    "elif operation=='*':\n",
    "    multi = num_1 * num_2\n",
    "    print(multi)\n",
    "elif operation=='/':\n",
    "    if num_2!=0:\n",
    "        div = num_1 / num_2\n",
    "        print(div)\n",
    "    else:\n",
    "        print('Division by zero is not possible, change the number.')\n",
    "elif operation=='//':\n",
    "    floor_div = num_1//num_2\n",
    "    print(floor_div)\n",
    "elif operation=='%':\n",
    "    modulo = num_1%num_2\n",
    "    print(modulo)\n",
    "else:\n",
    "    print(\"invalid operation\")\n",
    "\n",
    "\n",
    "\n",
    "\n",
    "\n",
    "\n",
    "\n"
   ]
  },
  {
   "cell_type": "code",
   "execution_count": 24,
   "id": "7e970d76",
   "metadata": {},
   "outputs": [
    {
     "name": "stdout",
     "output_type": "stream",
     "text": [
      "2025  is not a leap year.\n"
     ]
    }
   ],
   "source": [
    "## Nested if-else\n",
    "\n",
    "year = int(input(\"Enter the year:\"))\n",
    "\n",
    "if year%4==0:\n",
    "    if year%100==0:\n",
    "        if year%400==0:\n",
    "            print(f\"The {year} is a leap year.\")\n",
    "        else:\n",
    "            print(f\"The {year} is not a leap year.\")\n",
    "        print(f'The {year} is a leap year.')\n",
    "    print(f\"{year} is a leap year.\")\n",
    "else:\n",
    "    print(f\"{year}  is not a leap year.\")"
   ]
  },
  {
   "cell_type": "code",
   "execution_count": 29,
   "id": "0f160bef",
   "metadata": {},
   "outputs": [
    {
     "name": "stdout",
     "output_type": "stream",
     "text": [
      "This is a honda bike.\n"
     ]
    }
   ],
   "source": [
    "bike = \"HONDA\"\n",
    "print(f\"This is a {bike.lower()} bike.\")"
   ]
  }
 ],
 "metadata": {
  "kernelspec": {
   "display_name": "Python 3",
   "language": "python",
   "name": "python3"
  },
  "language_info": {
   "codemirror_mode": {
    "name": "ipython",
    "version": 3
   },
   "file_extension": ".py",
   "mimetype": "text/x-python",
   "name": "python",
   "nbconvert_exporter": "python",
   "pygments_lexer": "ipython3",
   "version": "3.12.0"
  }
 },
 "nbformat": 4,
 "nbformat_minor": 5
}
