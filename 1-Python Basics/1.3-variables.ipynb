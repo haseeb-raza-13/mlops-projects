{
 "cells": [
  {
   "cell_type": "markdown",
   "id": "1930a031",
   "metadata": {},
   "source": [
    "- Variable Assignment\n",
    "- Naming Convention\n",
    "- Dynamic typing\n",
    "- & Type conversion"
   ]
  },
  {
   "cell_type": "code",
   "execution_count": 1,
   "id": "832039f0",
   "metadata": {},
   "outputs": [],
   "source": [
    "a=23 ## integers\n",
    "name=\"Haseeb\" ## strings\n",
    "height= 5.7  ## floats \n",
    "is_adult=True ## Booleans\n"
   ]
  },
  {
   "cell_type": "code",
   "execution_count": 2,
   "id": "572af49b",
   "metadata": {},
   "outputs": [
    {
     "name": "stdout",
     "output_type": "stream",
     "text": [
      "23\n",
      "Haseeb\n",
      "5.7\n",
      "True\n"
     ]
    }
   ],
   "source": [
    "print(a)\n",
    "print(name)\n",
    "print(height)\n",
    "print(is_adult)"
   ]
  },
  {
   "cell_type": "code",
   "execution_count": 3,
   "id": "65de8b39",
   "metadata": {},
   "outputs": [
    {
     "name": "stdout",
     "output_type": "stream",
     "text": [
      "<class 'int'>\n",
      "<class 'str'>\n",
      "<class 'float'>\n",
      "<class 'bool'>\n"
     ]
    }
   ],
   "source": [
    "print(type(a))\n",
    "print(type(name))\n",
    "print(type(height))\n",
    "print(type(is_adult))"
   ]
  },
  {
   "cell_type": "code",
   "execution_count": 4,
   "id": "49e0cd64",
   "metadata": {},
   "outputs": [
    {
     "name": "stdout",
     "output_type": "stream",
     "text": [
      "<class 'int'>\n",
      "<class 'str'>\n",
      "<class 'bool'>\n"
     ]
    }
   ],
   "source": [
    "## Python is a dynamically typed language \n",
    "\n",
    "var = 24\n",
    "print(type(var))\n",
    "var = \"Haseeb\"\n",
    "print(type(var))\n",
    "var = True\n",
    "print(type(var))"
   ]
  },
  {
   "cell_type": "code",
   "execution_count": null,
   "id": "bfac2a93",
   "metadata": {},
   "outputs": [
    {
     "name": "stdout",
     "output_type": "stream",
     "text": [
      "<class 'str'>\n",
      "<class 'int'>\n"
     ]
    }
   ],
   "source": [
    "## Type conversion\n",
    "\n",
    "age = '21'\n",
    "print(type(age))\n",
    "age_1 = int(age)\n",
    "print(type(age_1))\n"
   ]
  },
  {
   "cell_type": "code",
   "execution_count": null,
   "id": "beb4bae0",
   "metadata": {},
   "outputs": [],
   "source": [
    "## Naming Convention\n",
    "\n",
    "\n",
    "## small case letters, underscores, numbers\n"
   ]
  },
  {
   "cell_type": "code",
   "execution_count": 6,
   "id": "f4fe9b5e",
   "metadata": {},
   "outputs": [],
   "source": [
    "## input() Function\n",
    "\n",
    "num_1 = input(\"Enter a number!\")\n",
    "num_2 = input(\"Enter the second number!\")"
   ]
  },
  {
   "cell_type": "code",
   "execution_count": 8,
   "id": "21be34d2",
   "metadata": {},
   "outputs": [
    {
     "name": "stdout",
     "output_type": "stream",
     "text": [
      "<class 'str'>\n",
      "<class 'str'>\n"
     ]
    }
   ],
   "source": [
    "print(type(num_1))\n",
    "print(type(num_2))"
   ]
  },
  {
   "cell_type": "code",
   "execution_count": null,
   "id": "0c6d3cbe",
   "metadata": {},
   "outputs": [
    {
     "name": "stdout",
     "output_type": "stream",
     "text": [
      "53\n",
      "-11\n",
      "672\n",
      "1.5238095238095237\n"
     ]
    }
   ],
   "source": [
    "## Simple Calculator \n",
    "\n",
    "num_1 = int(input(\"Enter a number!\"))\n",
    "num_2 = int(input(\"Enter the second number!\"))\n",
    "\n",
    "\n",
    "sum = num_1 + num_2\n",
    "diff = num_2 - num_1\n",
    "multi = num_1 * num_2\n",
    "div = num_1 / num_2\n",
    "\n",
    "\n",
    "print(sum)\n",
    "print(diff)\n",
    "print(multi)\n",
    "print(div)"
   ]
  },
  {
   "cell_type": "markdown",
   "id": "3735e436",
   "metadata": {},
   "source": [
    "## Basic data types\n",
    "\n",
    "- String\n",
    "- Boolean\n",
    "- Integer\n",
    "- Floats"
   ]
  },
  {
   "cell_type": "code",
   "execution_count": null,
   "id": "600aa008",
   "metadata": {},
   "outputs": [],
   "source": [
    "\n",
    "## String\n",
    "name = \"haseeb\""
   ]
  },
  {
   "cell_type": "code",
   "execution_count": 11,
   "id": "1445525a",
   "metadata": {},
   "outputs": [
    {
     "name": "stdout",
     "output_type": "stream",
     "text": [
      "HASEEB\n"
     ]
    }
   ],
   "source": [
    "print(name.upper())"
   ]
  },
  {
   "cell_type": "code",
   "execution_count": 12,
   "id": "dfeb0414",
   "metadata": {},
   "outputs": [],
   "source": [
    "## Boolean\n",
    "x = True\n",
    "y = True\n",
    "\n"
   ]
  },
  {
   "cell_type": "code",
   "execution_count": 13,
   "id": "f2fb111c",
   "metadata": {},
   "outputs": [
    {
     "data": {
      "text/plain": [
       "(1, 1)"
      ]
     },
     "execution_count": 13,
     "metadata": {},
     "output_type": "execute_result"
    }
   ],
   "source": [
    "x.as_integer_ratio()"
   ]
  },
  {
   "cell_type": "code",
   "execution_count": null,
   "id": "cf249cf1",
   "metadata": {},
   "outputs": [],
   "source": [
    "## Integer\n",
    "\n",
    "age = 21\n"
   ]
  },
  {
   "cell_type": "code",
   "execution_count": 15,
   "id": "199fbc05",
   "metadata": {},
   "outputs": [],
   "source": [
    "## Float\n",
    "\n",
    "weight = 70.0"
   ]
  },
  {
   "cell_type": "code",
   "execution_count": null,
   "id": "6706ffb3",
   "metadata": {},
   "outputs": [],
   "source": []
  }
 ],
 "metadata": {
  "kernelspec": {
   "display_name": "Python 3",
   "language": "python",
   "name": "python3"
  },
  "language_info": {
   "codemirror_mode": {
    "name": "ipython",
    "version": 3
   },
   "file_extension": ".py",
   "mimetype": "text/x-python",
   "name": "python",
   "nbconvert_exporter": "python",
   "pygments_lexer": "ipython3",
   "version": "3.12.0"
  }
 },
 "nbformat": 4,
 "nbformat_minor": 5
}
