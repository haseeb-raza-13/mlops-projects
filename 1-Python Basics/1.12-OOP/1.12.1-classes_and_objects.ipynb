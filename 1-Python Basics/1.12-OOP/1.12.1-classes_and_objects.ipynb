{
 "cells": [
  {
   "cell_type": "markdown",
   "id": "934e151e",
   "metadata": {},
   "source": [
    "## Classes and Objects in Python\n",
    "\n",
    "- Classes\n",
    "- Objects\n",
    "- Instance Variables\n",
    "- Methods \n",
    "- Constructors"
   ]
  },
  {
   "cell_type": "code",
   "execution_count": 1,
   "id": "77658a97",
   "metadata": {},
   "outputs": [],
   "source": [
    "## Class ----> Blue prints\n",
    "\n",
    "class Car:\n",
    "    pass\n",
    "\n",
    "car = Car()"
   ]
  },
  {
   "cell_type": "code",
   "execution_count": 2,
   "id": "bc0e62a8",
   "metadata": {},
   "outputs": [
    {
     "data": {
      "text/plain": [
       "['__class__',\n",
       " '__delattr__',\n",
       " '__dict__',\n",
       " '__dir__',\n",
       " '__doc__',\n",
       " '__eq__',\n",
       " '__format__',\n",
       " '__ge__',\n",
       " '__getattribute__',\n",
       " '__getstate__',\n",
       " '__gt__',\n",
       " '__hash__',\n",
       " '__init__',\n",
       " '__init_subclass__',\n",
       " '__le__',\n",
       " '__lt__',\n",
       " '__module__',\n",
       " '__ne__',\n",
       " '__new__',\n",
       " '__reduce__',\n",
       " '__reduce_ex__',\n",
       " '__repr__',\n",
       " '__setattr__',\n",
       " '__sizeof__',\n",
       " '__str__',\n",
       " '__subclasshook__',\n",
       " '__weakref__']"
      ]
     },
     "execution_count": 2,
     "metadata": {},
     "output_type": "execute_result"
    }
   ],
   "source": [
    "dir(car)"
   ]
  },
  {
   "cell_type": "code",
   "execution_count": 3,
   "id": "8506c738",
   "metadata": {},
   "outputs": [
    {
     "data": {
      "text/plain": [
       "['__class__',\n",
       " '__delattr__',\n",
       " '__dict__',\n",
       " '__dir__',\n",
       " '__doc__',\n",
       " '__eq__',\n",
       " '__format__',\n",
       " '__ge__',\n",
       " '__getattribute__',\n",
       " '__getstate__',\n",
       " '__gt__',\n",
       " '__hash__',\n",
       " '__init__',\n",
       " '__init_subclass__',\n",
       " '__le__',\n",
       " '__lt__',\n",
       " '__module__',\n",
       " '__ne__',\n",
       " '__new__',\n",
       " '__reduce__',\n",
       " '__reduce_ex__',\n",
       " '__repr__',\n",
       " '__setattr__',\n",
       " '__sizeof__',\n",
       " '__str__',\n",
       " '__subclasshook__',\n",
       " '__weakref__',\n",
       " 'windows']"
      ]
     },
     "execution_count": 3,
     "metadata": {},
     "output_type": "execute_result"
    }
   ],
   "source": [
    "car.windows = 4\n",
    "dir(car)"
   ]
  },
  {
   "cell_type": "code",
   "execution_count": 5,
   "id": "f49f5226",
   "metadata": {},
   "outputs": [
    {
     "name": "stdout",
     "output_type": "stream",
     "text": [
      "4\n"
     ]
    },
    {
     "ename": "AttributeError",
     "evalue": "'Car' object has no attribute 'windows'",
     "output_type": "error",
     "traceback": [
      "\u001b[1;31m---------------------------------------------------------------------------\u001b[0m",
      "\u001b[1;31mAttributeError\u001b[0m                            Traceback (most recent call last)",
      "Cell \u001b[1;32mIn[5], line 5\u001b[0m\n\u001b[0;32m      2\u001b[0m tata\u001b[38;5;241m.\u001b[39mdoors\u001b[38;5;241m=\u001b[39m \u001b[38;5;241m4\u001b[39m\n\u001b[0;32m      4\u001b[0m \u001b[38;5;28mprint\u001b[39m(tata\u001b[38;5;241m.\u001b[39mdoors)\n\u001b[1;32m----> 5\u001b[0m \u001b[38;5;28mprint\u001b[39m(\u001b[43mtata\u001b[49m\u001b[38;5;241;43m.\u001b[39;49m\u001b[43mwindows\u001b[49m)\n",
      "\u001b[1;31mAttributeError\u001b[0m: 'Car' object has no attribute 'windows'"
     ]
    }
   ],
   "source": [
    "tata = Car()\n",
    "tata.doors= 4\n",
    "\n",
    "print(tata.doors)\n",
    "print(tata.windows)"
   ]
  },
  {
   "cell_type": "code",
   "execution_count": 6,
   "id": "4641d4fd",
   "metadata": {},
   "outputs": [],
   "source": [
    "class Car:\n",
    "    ## constructor\n",
    "    def __init__(self,engine_type,windows,company):\n",
    "        self.engine_type = engine_type\n",
    "        self.windows = windows\n",
    "        self.company = company\n",
    "    \n",
    "    def start(self):\n",
    "        print(f\"The {self.engine_type} started! \")"
   ]
  },
  {
   "cell_type": "code",
   "execution_count": 7,
   "id": "98aa4fb5",
   "metadata": {},
   "outputs": [
    {
     "name": "stdout",
     "output_type": "stream",
     "text": [
      "Petrol Engine\n",
      "4\n",
      "Toyota\n"
     ]
    }
   ],
   "source": [
    "car1 = Car('Petrol Engine', 4, 'Toyota')\n",
    "\n",
    "print(car1.engine_type)\n",
    "print(car1.windows)\n",
    "print(car1.company)"
   ]
  },
  {
   "cell_type": "code",
   "execution_count": 8,
   "id": "6b5698b8",
   "metadata": {},
   "outputs": [
    {
     "data": {
      "text/plain": [
       "['__class__',\n",
       " '__delattr__',\n",
       " '__dict__',\n",
       " '__dir__',\n",
       " '__doc__',\n",
       " '__eq__',\n",
       " '__format__',\n",
       " '__ge__',\n",
       " '__getattribute__',\n",
       " '__getstate__',\n",
       " '__gt__',\n",
       " '__hash__',\n",
       " '__init__',\n",
       " '__init_subclass__',\n",
       " '__le__',\n",
       " '__lt__',\n",
       " '__module__',\n",
       " '__ne__',\n",
       " '__new__',\n",
       " '__reduce__',\n",
       " '__reduce_ex__',\n",
       " '__repr__',\n",
       " '__setattr__',\n",
       " '__sizeof__',\n",
       " '__str__',\n",
       " '__subclasshook__',\n",
       " '__weakref__',\n",
       " 'company',\n",
       " 'engine_type',\n",
       " 'start',\n",
       " 'windows']"
      ]
     },
     "execution_count": 8,
     "metadata": {},
     "output_type": "execute_result"
    }
   ],
   "source": [
    "dir(car1)"
   ]
  },
  {
   "cell_type": "code",
   "execution_count": 9,
   "id": "6a052c86",
   "metadata": {},
   "outputs": [
    {
     "name": "stdout",
     "output_type": "stream",
     "text": [
      "The Petrol Engine started! \n"
     ]
    }
   ],
   "source": [
    "car1.start()"
   ]
  },
  {
   "cell_type": "code",
   "execution_count": 11,
   "id": "13ba1469",
   "metadata": {},
   "outputs": [
    {
     "name": "stdout",
     "output_type": "stream",
     "text": [
      "The Electric Engine started! \n"
     ]
    }
   ],
   "source": [
    "car2 = Car('Electric Engine', 2, 'Tesla')\n",
    "car2.start()"
   ]
  },
  {
   "cell_type": "code",
   "execution_count": 18,
   "id": "a7fb4f25",
   "metadata": {},
   "outputs": [],
   "source": [
    "class BankAccount:\n",
    "    ## Instance Variables\n",
    "    def __init__(self, owner, balance=0):\n",
    "        self.owner = owner\n",
    "        self.balance = balance\n",
    "\n",
    "    ## Methods\n",
    "\n",
    "    def deposit(self, amount):\n",
    "        self.balance += amount\n",
    "        print(f'The amount {amount} has been deposited and the current balance is {self.balance}')\n",
    "\n",
    "    def check_balance(self):\n",
    "        return self.balance\n",
    "\n",
    "    def withdraw(self, amount):\n",
    "        if amount > self.balance:\n",
    "            print(\"Insufficient funds!\")\n",
    "        else:\n",
    "            print(f'The amount {amount} has been withdrawn')\n",
    "            self.balance -= amount\n",
    "            print(f'Current balance is {self.balance}')\n",
    "            "
   ]
  },
  {
   "cell_type": "code",
   "execution_count": 16,
   "id": "370e97ea",
   "metadata": {},
   "outputs": [
    {
     "name": "stdout",
     "output_type": "stream",
     "text": [
      "Subhan\n",
      "The amount 3000 has been withdrawn\n",
      "Current balance is 2000\n",
      "The amount 10000 has been deposited and the current balance is 12000\n"
     ]
    }
   ],
   "source": [
    "acc1 = BankAccount('Subhan', 5000)\n",
    "\n",
    "print(acc1.owner)\n",
    "acc1.withdraw(3000)\n",
    "acc1.deposit(10000)"
   ]
  },
  {
   "cell_type": "code",
   "execution_count": 17,
   "id": "0aa4d956",
   "metadata": {},
   "outputs": [
    {
     "name": "stdout",
     "output_type": "stream",
     "text": [
      "The amount 30000 has been deposited and the current balance is 40000\n",
      "The amount 20000 has been withdrawn\n",
      "Current balance is 20000\n"
     ]
    }
   ],
   "source": [
    "acc2 = BankAccount('Haseeb', 10000)\n",
    "acc2.deposit(30000)\n",
    "acc2.withdraw(20000)"
   ]
  },
  {
   "cell_type": "code",
   "execution_count": 20,
   "id": "11cb3619",
   "metadata": {},
   "outputs": [
    {
     "name": "stdout",
     "output_type": "stream",
     "text": [
      "The amount 50000 has been deposited and the current balance is 50000\n"
     ]
    },
    {
     "data": {
      "text/plain": [
       "50000"
      ]
     },
     "execution_count": 20,
     "metadata": {},
     "output_type": "execute_result"
    }
   ],
   "source": [
    "acc3 = BankAccount('Ali Raza')\n",
    "acc3.check_balance()\n",
    "acc3.deposit(50000)\n",
    "acc3.check_balance()"
   ]
  },
  {
   "cell_type": "code",
   "execution_count": null,
   "id": "dae55c6b",
   "metadata": {},
   "outputs": [],
   "source": []
  }
 ],
 "metadata": {
  "kernelspec": {
   "display_name": "Python 3",
   "language": "python",
   "name": "python3"
  },
  "language_info": {
   "codemirror_mode": {
    "name": "ipython",
    "version": 3
   },
   "file_extension": ".py",
   "mimetype": "text/x-python",
   "name": "python",
   "nbconvert_exporter": "python",
   "pygments_lexer": "ipython3",
   "version": "3.12.0"
  }
 },
 "nbformat": 4,
 "nbformat_minor": 5
}
