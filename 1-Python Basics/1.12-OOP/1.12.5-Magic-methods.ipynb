{
 "cells": [
  {
   "cell_type": "markdown",
   "id": "557e2623",
   "metadata": {},
   "source": [
    "## Magic Methods - Dundur Methods"
   ]
  },
  {
   "cell_type": "code",
   "execution_count": 1,
   "id": "003ddba6",
   "metadata": {},
   "outputs": [],
   "source": [
    "## Methods with __ (double underscore)\n",
    "## They can change the built in functionalities of an object"
   ]
  },
  {
   "cell_type": "code",
   "execution_count": 5,
   "id": "15e4777e",
   "metadata": {},
   "outputs": [
    {
     "name": "stdout",
     "output_type": "stream",
     "text": [
      "Haseeb is 21 years old.\n"
     ]
    }
   ],
   "source": [
    "class Person:\n",
    "    def __init__(self, name, age):\n",
    "        self.name = name\n",
    "        self.age = age\n",
    "\n",
    "    def __str__(self):\n",
    "        return f\"{self.name} is {self.age} years old.\"\n",
    "\n",
    "    \n",
    "\n",
    "p1 = Person('Haseeb', 21)\n",
    "\n",
    "print(p1)"
   ]
  },
  {
   "cell_type": "code",
   "execution_count": null,
   "id": "7e3f723d",
   "metadata": {},
   "outputs": [],
   "source": []
  },
  {
   "cell_type": "code",
   "execution_count": null,
   "id": "79901c9b",
   "metadata": {},
   "outputs": [],
   "source": []
  }
 ],
 "metadata": {
  "kernelspec": {
   "display_name": "Python 3",
   "language": "python",
   "name": "python3"
  },
  "language_info": {
   "codemirror_mode": {
    "name": "ipython",
    "version": 3
   },
   "file_extension": ".py",
   "mimetype": "text/x-python",
   "name": "python",
   "nbconvert_exporter": "python",
   "pygments_lexer": "ipython3",
   "version": "3.12.0"
  }
 },
 "nbformat": 4,
 "nbformat_minor": 5
}
