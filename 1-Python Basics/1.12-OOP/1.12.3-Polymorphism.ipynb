{
 "cells": [
  {
   "cell_type": "markdown",
   "id": "c1bc551b",
   "metadata": {},
   "source": [
    "## Polymorphism in Python\n",
    "\n",
    "- Method Overriding\n",
    "- Abstract Based Classes"
   ]
  },
  {
   "cell_type": "code",
   "execution_count": 1,
   "id": "c7e00446",
   "metadata": {},
   "outputs": [
    {
     "name": "stdout",
     "output_type": "stream",
     "text": [
      "The animal makes a sound\n",
      "None\n",
      "The Lucy says woof!\n",
      "None\n"
     ]
    }
   ],
   "source": [
    "## Polymorphism with method over ridding\n",
    "\n",
    "class Animal:\n",
    "    def __init__(self, name):\n",
    "        self.name = name\n",
    "\n",
    "    def speak(self):\n",
    "        print('The animal makes a sound')\n",
    "\n",
    "\n",
    "class Dog(Animal):\n",
    "    def __init__(self,name):\n",
    "        super().__init__(name)\n",
    "\n",
    "    def speak(self):\n",
    "        print(f'The {self.name} says woof!')\n",
    "\n",
    "\n",
    "\n",
    "## function to represent polymorphism\n",
    "\n",
    "def animal_speak(object):\n",
    "    print(object.speak())\n",
    "\n",
    "\n",
    "a1 = Animal('Jackie')\n",
    "d1 = Dog('Lucy')\n",
    "\n",
    "\n",
    "animal_speak(a1)  # Output: The animal makes a sound\n",
    "animal_speak(d1)  # Output: The Lucy says woof!\n",
    "\n",
    "\n"
   ]
  },
  {
   "cell_type": "markdown",
   "id": "bd0b9057",
   "metadata": {},
   "source": [
    "## Polymorphism through abstract base classes"
   ]
  },
  {
   "cell_type": "code",
   "execution_count": 2,
   "id": "bd8e4bac",
   "metadata": {},
   "outputs": [],
   "source": [
    "from abc import ABC, abstractmethod"
   ]
  },
  {
   "cell_type": "code",
   "execution_count": 6,
   "id": "d28be065",
   "metadata": {},
   "outputs": [
    {
     "name": "stdout",
     "output_type": "stream",
     "text": [
      "You are driving a Toyota GLI with 4 doors.\n",
      "You are driving a Honda 125 with an engine size of 125CC\n"
     ]
    }
   ],
   "source": [
    "class Vehicle(ABC):\n",
    "    def __init__(self, brand, model, year):\n",
    "        self.brand = brand\n",
    "        self.model = model\n",
    "        self.year = year\n",
    "\n",
    "\n",
    "    @abstractmethod\n",
    "    def drive(self):\n",
    "        pass\n",
    "    \n",
    "\n",
    "\n",
    "class Car(Vehicle):\n",
    "    def __init__(self, brand, model, year, num_doors):\n",
    "        super().__init__(brand, model, year)\n",
    "        self.num_doors = num_doors\n",
    "\n",
    "    \n",
    "\n",
    "    def drive(self):\n",
    "        print(f\"You are driving a {self.brand} {self.model} with {self.num_doors} doors.\")\n",
    "\n",
    "class Motorbike(Vehicle):\n",
    "    def __init__(self, brand, model, year, engine_size):\n",
    "        super().__init__(brand, model, year)\n",
    "        self.engine_size = engine_size\n",
    "\n",
    "    def drive(self):\n",
    "        print(f\"You are driving a {self.brand} {self.model} with an engine size of {self.engine_size}\")\n",
    "\n",
    "\n",
    "\n",
    "\n",
    "c1 = Car('Toyota', 'GLI', 2020, 4)\n",
    "c1.drive()  # Output: You are driving a Toyota GLI with 4 doors\n",
    "\n",
    "m1 = Motorbike('Honda', '125', 2015, '125CC')\n",
    "m1.drive()\n",
    "\n"
   ]
  },
  {
   "cell_type": "code",
   "execution_count": 7,
   "id": "14007b73",
   "metadata": {},
   "outputs": [
    {
     "name": "stdout",
     "output_type": "stream",
     "text": [
      "You are driving a Honda City with 4 doors.\n",
      "You are driving a Kawasaki CG with an engine size of 150 CC\n"
     ]
    }
   ],
   "source": [
    "c2 = Car('Honda', 'City', 2015, 4)\n",
    "c2.drive()\n",
    "m2 = Motorbike('Kawasaki', 'CG', 2005, '150 CC')\n",
    "m2.drive()"
   ]
  },
  {
   "cell_type": "code",
   "execution_count": null,
   "id": "b0ba1c75",
   "metadata": {},
   "outputs": [],
   "source": []
  }
 ],
 "metadata": {
  "kernelspec": {
   "display_name": "Python 3",
   "language": "python",
   "name": "python3"
  },
  "language_info": {
   "codemirror_mode": {
    "name": "ipython",
    "version": 3
   },
   "file_extension": ".py",
   "mimetype": "text/x-python",
   "name": "python",
   "nbconvert_exporter": "python",
   "pygments_lexer": "ipython3",
   "version": "3.12.0"
  }
 },
 "nbformat": 4,
 "nbformat_minor": 5
}
