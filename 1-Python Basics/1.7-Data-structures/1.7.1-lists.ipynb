{
 "cells": [
  {
   "cell_type": "markdown",
   "id": "c600b22c",
   "metadata": {},
   "source": [
    "## Lists in Python\n",
    "- How to create the lists\n",
    "- How to access elements in the lists\n",
    "- List Slicing\n",
    "- List Methods\n",
    "- Nested Lists\n",
    "- Iterating over the lists\n",
    "- List Comprehensions\n",
    "- Nested List Comprehension"
   ]
  },
  {
   "cell_type": "markdown",
   "id": "7bfe4bff",
   "metadata": {},
   "source": [
    "- Lists are mutable collection of data"
   ]
  },
  {
   "cell_type": "code",
   "execution_count": null,
   "id": "918f984c",
   "metadata": {},
   "outputs": [
    {
     "name": "stdout",
     "output_type": "stream",
     "text": [
      "<class 'list'>\n"
     ]
    }
   ],
   "source": [
    "## creating lists\n",
    "\n",
    "lst = []\n",
    "print(type(lst))"
   ]
  },
  {
   "cell_type": "code",
   "execution_count": 2,
   "id": "8fc70202",
   "metadata": {},
   "outputs": [
    {
     "name": "stdout",
     "output_type": "stream",
     "text": [
      "[1, 2, 3, 4, 5, 'Haseeb', 'Subhan', 'Rubab', 5.7, 8.9, True, False]\n"
     ]
    }
   ],
   "source": [
    "lst = [1,2,3,4,5,\"Haseeb\", \"Subhan\", \"Rubab\", 5.7,8.9, True,False ]\n",
    "print(lst)"
   ]
  },
  {
   "cell_type": "code",
   "execution_count": 6,
   "id": "d420ec6e",
   "metadata": {},
   "outputs": [
    {
     "name": "stdout",
     "output_type": "stream",
     "text": [
      "1\n",
      "2\n",
      "False\n",
      "False\n"
     ]
    }
   ],
   "source": [
    "## Accessing lists\n",
    "## Indexing for accessing list elements\n",
    "\n",
    "print(lst[0])\n",
    "print(lst[1])\n",
    "print(lst[11])\n",
    "print(lst[-1])\n"
   ]
  },
  {
   "cell_type": "code",
   "execution_count": 9,
   "id": "2e08f309",
   "metadata": {},
   "outputs": [
    {
     "name": "stdout",
     "output_type": "stream",
     "text": [
      "[1, 2, 3]\n",
      "[3, 4, 5, 'Haseeb']\n",
      "[3, 5, 'Subhan', 5.7, True]\n",
      "[3, 4, 5, 'Haseeb', 'Subhan', 'Rubab', 5.7, 8.9, True, False]\n",
      "[1, 2, 3, 4, 5, 'Haseeb', 'Subhan']\n",
      "[False, True, 8.9, 5.7, 'Rubab', 'Subhan', 'Haseeb', 5, 4, 3, 2, 1]\n"
     ]
    }
   ],
   "source": [
    "## Slicing operations\n",
    "\n",
    "print(lst[0:3])\n",
    "print(lst[2:6])\n",
    "print(lst[2::2]) ##\n",
    "print(lst[2:])\n",
    "print(lst[:7])\n",
    "print(lst[-1::-1])"
   ]
  },
  {
   "cell_type": "code",
   "execution_count": 10,
   "id": "3063a837",
   "metadata": {},
   "outputs": [
    {
     "name": "stdout",
     "output_type": "stream",
     "text": [
      "[1, 2, 3, 4, 5, 'Haseeb', 'Subhan', 'Microinformatics', 5.7, 8.9, True, False]\n"
     ]
    }
   ],
   "source": [
    "## Modifying the list Element\n",
    "\n",
    "lst[7] = \"Microinformatics\"\n",
    "\n",
    "print(lst)"
   ]
  },
  {
   "cell_type": "code",
   "execution_count": null,
   "id": "e0ea52b4",
   "metadata": {},
   "outputs": [
    {
     "name": "stdout",
     "output_type": "stream",
     "text": [
      "[1, 2, 3, 4, 5, 'Haseeb', 'Subhan', 'Microinformatics', 5.7, 8.9, True, False, 'Rubab']\n",
      "Rubab\n",
      "[1, 2, 3, 4, 5, 'Haseeb', 'Subhan', 5.7, 8.9, True, False]\n"
     ]
    }
   ],
   "source": [
    "## List Methods \n",
    "\n",
    "\n",
    "lst.append('Rubab')\n",
    "print(lst)\n",
    "\n",
    "out_put = lst.pop()\n",
    "print(out_put)\n",
    "\n",
    "lst.remove(\"Microinformatics\")\n",
    "print(lst)\n",
    "\n",
    "\n"
   ]
  },
  {
   "cell_type": "code",
   "execution_count": 21,
   "id": "af8d9088",
   "metadata": {},
   "outputs": [
    {
     "name": "stdout",
     "output_type": "stream",
     "text": [
      "['Haseeb', 'Rubab', 'Subhan', 'apples', 'banana', 'cat', 'dog', 'grapes']\n"
     ]
    }
   ],
   "source": [
    "fruits = ['banana', 'apples', 'grapes', 'cat', 'dog','Haseeb','Subhan', 'Rubab']\n",
    "\n",
    "fruits.sort()\n",
    "print(fruits)"
   ]
  },
  {
   "cell_type": "code",
   "execution_count": 24,
   "id": "3ec9bb2e",
   "metadata": {},
   "outputs": [
    {
     "name": "stdout",
     "output_type": "stream",
     "text": [
      "3\n",
      "5\n"
     ]
    }
   ],
   "source": [
    "## Nested Lists\n",
    "\n",
    "lst = [\n",
    "    [1, 2, 3],\n",
    "    [4, 5, 6],\n",
    "    [7, 8, 9]\n",
    "]\n",
    "\n",
    "print(lst[0][2])\n",
    "print(lst[1][1])"
   ]
  },
  {
   "cell_type": "code",
   "execution_count": 26,
   "id": "5faf8bf3",
   "metadata": {},
   "outputs": [
    {
     "name": "stdout",
     "output_type": "stream",
     "text": [
      "BANANA APPLES GRAPES CAT DOG HASEEB SUBHAN RUBAB "
     ]
    }
   ],
   "source": [
    "## Iterating over the list\n",
    "fruits = ['banana', 'apples', 'grapes', 'cat', 'dog','Haseeb','Subhan', 'Rubab']\n",
    "\n",
    "\n",
    "for i in fruits:\n",
    "    print(i.upper(), end= \" \")"
   ]
  },
  {
   "cell_type": "code",
   "execution_count": 29,
   "id": "90c60b16",
   "metadata": {},
   "outputs": [
    {
     "name": "stdout",
     "output_type": "stream",
     "text": [
      "[1, 2, 3, 4, 5, 6, 7, 8, 9]\n"
     ]
    }
   ],
   "source": [
    "lst = [\n",
    "    [1, 2, 3],\n",
    "    [4, 5, 6],\n",
    "    [7, 8, 9]\n",
    "]\n",
    "\n",
    "num = []\n",
    "\n",
    "for i in lst:\n",
    "    for j in i:\n",
    "        num.append(j)\n",
    "        \n",
    "    \n",
    "\n",
    "print(num)"
   ]
  },
  {
   "cell_type": "markdown",
   "id": "f25f1988",
   "metadata": {},
   "source": [
    "### List Comprehension\n",
    "\n",
    "formate_1 : [*expression for item in iterable*] \n",
    "\n",
    "formate_2 : [*expression for item in iterable if condition*]\n",
    "\n",
    "\n",
    "### Nested List Comprehension\n",
    "\n",
    "formate_3 : [*expression for item in iterable if condition for item2 in iterable2 if condition2*]"
   ]
  },
  {
   "cell_type": "code",
   "execution_count": 30,
   "id": "140d6d0a",
   "metadata": {},
   "outputs": [
    {
     "name": "stdout",
     "output_type": "stream",
     "text": [
      "[0, 4, 16, 36, 64]\n"
     ]
    }
   ],
   "source": [
    "## List Comprehension\n",
    "\n",
    "lst = []\n",
    "\n",
    "for i in range(10):\n",
    "    if i % 2 == 0:\n",
    "        lst.append(i * i)\n",
    "\n",
    "print(lst)\n",
    "\n"
   ]
  },
  {
   "cell_type": "code",
   "execution_count": 34,
   "id": "c86155b2",
   "metadata": {},
   "outputs": [
    {
     "name": "stdout",
     "output_type": "stream",
     "text": [
      "[1, 9, 25, 49, 81]\n"
     ]
    }
   ],
   "source": [
    "lst = [ i*i  for i in range(10) if i%2!=0]\n",
    "\n",
    "print(lst)"
   ]
  },
  {
   "cell_type": "code",
   "execution_count": 40,
   "id": "ae6402b0",
   "metadata": {},
   "outputs": [
    {
     "name": "stdout",
     "output_type": "stream",
     "text": [
      "[1, 2, 3, 4, 5, 6, 7, 8, 9]\n"
     ]
    }
   ],
   "source": [
    "lst = [\n",
    "    [1, 2, 3],\n",
    "    [4, 5, 6],\n",
    "    [7, 8, 9]\n",
    "]\n",
    "\n",
    "## Nested list comprehension\n",
    "\n",
    "\n",
    "nest_lst = [j for i in lst for j in i]\n",
    "\n",
    "print(nest_lst)"
   ]
  },
  {
   "cell_type": "code",
   "execution_count": null,
   "id": "3be0160b",
   "metadata": {},
   "outputs": [
    {
     "name": "stdout",
     "output_type": "stream",
     "text": [
      "[1234, 4567, 8910, 111213, 141516, 171819, 202122, 232425, 262728]\n"
     ]
    }
   ],
   "source": [
    "lst = [[\"1234\",\"4567\",\"8910\"],[\"111213\",\"141516\",\"171819\"],[\"202122\",\"232425\",\"262728\"]]\n",
    "\n",
    "\n",
    "new_lst = []\n",
    "\n",
    "for i in lst:\n",
    "    for j in i:\n",
    "        new_lst.append(int(j))\n",
    "\n",
    "\n",
    "\n",
    "\n",
    "\n",
    "print(new_lst)"
   ]
  }
 ],
 "metadata": {
  "kernelspec": {
   "display_name": "Python 3",
   "language": "python",
   "name": "python3"
  },
  "language_info": {
   "codemirror_mode": {
    "name": "ipython",
    "version": 3
   },
   "file_extension": ".py",
   "mimetype": "text/x-python",
   "name": "python",
   "nbconvert_exporter": "python",
   "pygments_lexer": "ipython3",
   "version": "3.12.0"
  }
 },
 "nbformat": 4,
 "nbformat_minor": 5
}
