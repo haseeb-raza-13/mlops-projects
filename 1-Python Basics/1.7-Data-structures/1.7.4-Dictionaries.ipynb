{
 "cells": [
  {
   "cell_type": "markdown",
   "id": "4c15bf81",
   "metadata": {},
   "source": [
    "## Dictionaries in Python"
   ]
  },
  {
   "cell_type": "code",
   "execution_count": 1,
   "id": "de512cf3",
   "metadata": {},
   "outputs": [
    {
     "name": "stdout",
     "output_type": "stream",
     "text": [
      "<class 'dict'>\n"
     ]
    }
   ],
   "source": [
    "## Creating Dictionaries \n",
    "\n",
    "dict_1 = {}\n",
    "print(type(dict_1))"
   ]
  },
  {
   "cell_type": "code",
   "execution_count": 3,
   "metadata": {},
   "outputs": [
    {
     "name": "stdout",
     "output_type": "stream",
     "text": [
      "{'name': 'Haseeb', 'age': 21, 'field': 'Data Science'}\n"
     ]
    }
   ],
   "source": [
    "dict_1 = {\"name\":\"Haseeb\",\"age\":21,\"field\":\"Data Science\" }\n",
    "print(dict_1)"
   ]
  },
  {
   "cell_type": "markdown",
   "id": "3054473e",
   "metadata": {},
   "source": [
    "- Key: Unique, Immutable"
   ]
  },
  {
   "cell_type": "code",
   "execution_count": 5,
   "id": "fefad1a7",
   "metadata": {},
   "outputs": [
    {
     "name": "stdout",
     "output_type": "stream",
     "text": [
      "Haseeb\n",
      "21\n"
     ]
    }
   ],
   "source": [
    "## Accessing Data OTBO keys \n",
    "\n",
    "print(dict_1[\"name\"])\n",
    "print(dict_1[\"age\"])"
   ]
  },
  {
   "cell_type": "code",
   "execution_count": 6,
   "id": "cad318fc",
   "metadata": {},
   "outputs": [
    {
     "name": "stdout",
     "output_type": "stream",
     "text": [
      "{'name': 'Ali', 'age': 21, 'field': 'Data Science'}\n"
     ]
    }
   ],
   "source": [
    "dict_1 = {\"name\":\"Haseeb\",\"age\":21,\"field\":\"Data Science\", \"name\":\"Ali\" }\n",
    "\n",
    "print(dict_1)"
   ]
  },
  {
   "cell_type": "code",
   "execution_count": 7,
   "id": "697db5e0",
   "metadata": {},
   "outputs": [
    {
     "name": "stdout",
     "output_type": "stream",
     "text": [
      "Ali\n",
      "21\n",
      "Ali\n",
      "21\n"
     ]
    }
   ],
   "source": [
    "## Dictionary Methods\n",
    "\n",
    "## Accessing Data OTBO keys \n",
    "\n",
    "print(dict_1[\"name\"])\n",
    "print(dict_1[\"age\"])\n",
    "\n",
    "## Accessing data using dictionary methods\n",
    "\n",
    "print(dict_1.get(\"name\"))\n",
    "print(dict_1.get(\"age\"))"
   ]
  },
  {
   "cell_type": "code",
   "execution_count": 9,
   "id": "39e1b002",
   "metadata": {},
   "outputs": [
    {
     "name": "stdout",
     "output_type": "stream",
     "text": [
      "dict_keys(['name', 'age', 'field'])\n",
      "dict_values(['Ali', 21, 'Data Science'])\n",
      "dict_items([('name', 'Ali'), ('age', 21), ('field', 'Data Science')])\n"
     ]
    }
   ],
   "source": [
    "## Others Methods \n",
    "\n",
    "keys = dict_1.keys()\n",
    "values = dict_1.values()\n",
    "items  = dict_1.items()\n",
    "\n",
    "print(keys)\n",
    "print(values)\n",
    "print(items)"
   ]
  },
  {
   "cell_type": "code",
   "execution_count": 10,
   "id": "7be47c57",
   "metadata": {},
   "outputs": [
    {
     "name": "stdout",
     "output_type": "stream",
     "text": [
      "{'name': 'Ali', 'age': 21, 'field': 'Data Science'}\n"
     ]
    }
   ],
   "source": [
    "## Shallow Copy\n",
    "\n",
    "clone_1 = dict_1\n",
    "\n",
    "print(clone_1)"
   ]
  },
  {
   "cell_type": "code",
   "execution_count": 11,
   "id": "4a755c1e",
   "metadata": {},
   "outputs": [
    {
     "name": "stdout",
     "output_type": "stream",
     "text": [
      "{'name': 'Haseeb', 'age': 21, 'field': 'Data Science'}\n",
      "{'name': 'Haseeb', 'age': 21, 'field': 'Data Science'}\n"
     ]
    }
   ],
   "source": [
    "dict_1[\"name\"] = \"Haseeb\"\n",
    "\n",
    "print(dict_1)\n",
    "print(clone_1)"
   ]
  },
  {
   "cell_type": "code",
   "execution_count": 12,
   "id": "3985be55",
   "metadata": {},
   "outputs": [
    {
     "name": "stdout",
     "output_type": "stream",
     "text": [
      "{'name': 'Alishba', 'age': 21, 'field': 'Data Science'}\n",
      "{'name': 'Haseeb', 'age': 21, 'field': 'Data Science'}\n"
     ]
    }
   ],
   "source": [
    "clone_2 = dict_1.copy()\n",
    "\n",
    "dict_1[\"name\"] = \"Alishba\"\n",
    "\n",
    "print(dict_1)\n",
    "print(clone_2)\n",
    "\n"
   ]
  },
  {
   "cell_type": "code",
   "execution_count": 13,
   "id": "85a931e0",
   "metadata": {},
   "outputs": [
    {
     "name": "stdout",
     "output_type": "stream",
     "text": [
      "{'name': 'Alishba', 'age': 23, 'field': 'Data Science'}\n",
      "{'name': 'Alishba', 'age': 23, 'field': 'Data Science', 'city': 'Faisalabad'}\n",
      "{'name': 'Alishba', 'age': 23, 'field': 'Data Science'}\n"
     ]
    }
   ],
   "source": [
    "## Update, Delete,  and  Adding new records\n",
    "\n",
    "\n",
    "dict_1[\"age\"] = 23 ## Updating an existing record\n",
    "print(dict_1)\n",
    "\n",
    "dict_1[\"city\"] = \"Faisalabad\" ## Adding new records to an existing dictionary\n",
    "print(dict_1)\n",
    "\n",
    "del dict_1[\"city\"]\n",
    "\n",
    "print(dict_1)\n",
    "\n",
    "\n",
    "\n"
   ]
  },
  {
   "cell_type": "code",
   "execution_count": 16,
   "id": "7b11883a",
   "metadata": {},
   "outputs": [
    {
     "name": "stdout",
     "output_type": "stream",
     "text": [
      "name\n",
      "age\n",
      "field\n"
     ]
    }
   ],
   "source": [
    "## Iterating over Dictionaries \n",
    "\n",
    "for i in dict_1.keys():\n",
    "    print(i)"
   ]
  },
  {
   "cell_type": "code",
   "execution_count": 15,
   "id": "98828b38",
   "metadata": {},
   "outputs": [
    {
     "name": "stdout",
     "output_type": "stream",
     "text": [
      "Alishba\n",
      "23\n",
      "Data Science\n"
     ]
    }
   ],
   "source": [
    "for value in dict_1.values():\n",
    "    print(value)"
   ]
  },
  {
   "cell_type": "code",
   "execution_count": 17,
   "id": "68ba8af7",
   "metadata": {},
   "outputs": [
    {
     "name": "stdout",
     "output_type": "stream",
     "text": [
      "name: Alishba\n",
      "age: 23\n",
      "field: Data Science\n"
     ]
    }
   ],
   "source": [
    "for key,value in dict_1.items():\n",
    "    print(f\"{key}: {value}\")"
   ]
  },
  {
   "cell_type": "code",
   "execution_count": 18,
   "id": "efca15bd",
   "metadata": {},
   "outputs": [
    {
     "name": "stdout",
     "output_type": "stream",
     "text": [
      "{'name': 'Haseeb', 'age': 21, 'Dept': 'IOM', 'Club': 'YPDC'}\n",
      "{'name': 'XYZ', 'age': 21, 'Dept': 'IOM', 'Club': 'YPDC'}\n"
     ]
    }
   ],
   "source": [
    "## Nested Dictionaries\n",
    "\n",
    "nest_di = {\n",
    "    '2022-ag-4002' : {'name':'Haseeb', 'age':21, 'Dept':'IOM', 'Club': 'YPDC'},\n",
    "    '2022-ag-4004' : { 'name': 'XYZ', 'age':21,'Dept':'IOM', 'Club': 'YPDC' }\n",
    "}\n",
    "\n",
    "print(nest_di['2022-ag-4002'])\n",
    "print(nest_di['2022-ag-4004'])"
   ]
  },
  {
   "cell_type": "code",
   "execution_count": 20,
   "id": "bdca1d39",
   "metadata": {},
   "outputs": [
    {
     "name": "stdout",
     "output_type": "stream",
     "text": [
      "2022-ag-4002 -> name : Haseeb\n",
      "2022-ag-4002 -> age : 21\n",
      "2022-ag-4002 -> Dept : IOM\n",
      "2022-ag-4002 -> Club : YPDC\n",
      "2022-ag-4004 -> name : XYZ\n",
      "2022-ag-4004 -> age : 21\n",
      "2022-ag-4004 -> Dept : IOM\n",
      "2022-ag-4004 -> Club : YPDC\n"
     ]
    }
   ],
   "source": [
    "## Iterating over Nested Dictionaries\n",
    "\n",
    "for key,value in nest_di.items():\n",
    "    for i,j in value.items():\n",
    "        print(f\"{key} -> {i} : {j}\")\n"
   ]
  },
  {
   "cell_type": "code",
   "execution_count": 23,
   "id": "17837a0c",
   "metadata": {},
   "outputs": [
    {
     "name": "stdout",
     "output_type": "stream",
     "text": [
      "{1: 3, 2: 3, 3: 3, 4: 3, 5: 8, 6: 2, 9: 2, 7: 2, 0: 1}\n"
     ]
    }
   ],
   "source": [
    "## \n",
    "\n",
    "numbers = [1,1,1,2,2,2,3,3,3,4,4,4,5,5,5,5,5,5,5,5,6,6,9,9,7,7,0]\n",
    "\n",
    "frequency = {}\n",
    "\n",
    "\n",
    "for i in numbers:\n",
    "    if i in frequency:\n",
    "        frequency[i] += 1\n",
    "    else:\n",
    "        frequency[i] = 1\n",
    "\n",
    "        \n",
    "\n",
    "print(frequency)\n",
    "\n"
   ]
  },
  {
   "cell_type": "code",
   "execution_count": 24,
   "id": "1ac0f184",
   "metadata": {},
   "outputs": [],
   "source": [
    "## \n",
    "import json"
   ]
  },
  {
   "cell_type": "code",
   "execution_count": 25,
   "id": "3c44c1fd",
   "metadata": {},
   "outputs": [],
   "source": [
    "parsed_data =  json.dumps(dict_1)"
   ]
  },
  {
   "cell_type": "code",
   "execution_count": 26,
   "id": "30b28292",
   "metadata": {},
   "outputs": [
    {
     "name": "stdout",
     "output_type": "stream",
     "text": [
      "{\"name\": \"Alishba\", \"age\": 23, \"field\": \"Data Science\"}\n"
     ]
    }
   ],
   "source": [
    "print(parsed_data)"
   ]
  },
  {
   "cell_type": "code",
   "execution_count": null,
   "id": "613e964a",
   "metadata": {},
   "outputs": [
    {
     "name": "stdout",
     "output_type": "stream",
     "text": [
      "{\"2022-ag-4002\": {\"name\": \"Haseeb\", \"age\": 21, \"Dept\": \"IOM\", \"Club\": \"YPDC\"}, \"2022-ag-4004\": {\"name\": \"XYZ\", \"age\": 21, \"Dept\": \"IOM\", \"Club\": \"YPDC\"}}\n",
      "{'2022-ag-4002': {'name': 'Haseeb', 'age': 21, 'Dept': 'IOM', 'Club': 'YPDC'}, '2022-ag-4004': {'name': 'XYZ', 'age': 21, 'Dept': 'IOM', 'Club': 'YPDC'}}\n"
     ]
    }
   ],
   "source": [
    "## Converting to json strings\n",
    "\n",
    "parsed_data = json.dumps(nest_di)\n",
    "print(parsed_data)\n",
    "\n",
    "nested_di = json.loads(parsed_data)\n",
    "print(nested_di)"
   ]
  }
 ],
 "metadata": {
  "kernelspec": {
   "display_name": "Python 3",
   "language": "python",
   "name": "python3"
  },
  "language_info": {
   "codemirror_mode": {
    "name": "ipython",
    "version": 3
   },
   "file_extension": ".py",
   "mimetype": "text/x-python",
   "name": "python",
   "nbconvert_exporter": "python",
   "pygments_lexer": "ipython3",
   "version": "3.12.0"
  }
 },
 "nbformat": 4,
 "nbformat_minor": 5
}
