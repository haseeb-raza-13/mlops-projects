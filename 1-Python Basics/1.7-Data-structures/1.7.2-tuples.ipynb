{
 "cells": [
  {
   "cell_type": "markdown",
   "id": "ca581410",
   "metadata": {},
   "source": [
    "## Tuples in Python \n",
    "- Creating tuples\n",
    "- Accessing tuples\n",
    "- methods \n",
    "- packing and unpacking\n",
    "- etc"
   ]
  },
  {
   "cell_type": "code",
   "execution_count": null,
   "id": "7cce956e",
   "metadata": {},
   "outputs": [
    {
     "name": "stdout",
     "output_type": "stream",
     "text": [
      "<class 'tuple'>\n"
     ]
    }
   ],
   "source": [
    "## Tuples\n",
    "## Immutable \n",
    "\n",
    "tpl = (1,\"Haseeb\", 5.7, True)\n",
    "print(type(tpl))"
   ]
  },
  {
   "cell_type": "code",
   "execution_count": 2,
   "metadata": {},
   "outputs": [
    {
     "name": "stdout",
     "output_type": "stream",
     "text": [
      "<class 'tuple'>\n"
     ]
    }
   ],
   "source": [
    "tpl = 1,2,4,5,6\n",
    "print(type(tpl))"
   ]
  },
  {
   "cell_type": "code",
   "execution_count": null,
   "metadata": {},
   "outputs": [
    {
     "name": "stdout",
     "output_type": "stream",
     "text": [
      "<class 'tuple'>\n"
     ]
    }
   ],
   "source": [
    "lst = [1,2,3,4,4,'Haseeb', 'Subhan', 'Rubab', True, False, 6.2,5.7]\n",
    "\n",
    "tpl = tuple(lst) ## Type Casting \n",
    "print(type(tpl))"
   ]
  },
  {
   "cell_type": "code",
   "execution_count": null,
   "id": "05641cda",
   "metadata": {},
   "outputs": [
    {
     "name": "stdout",
     "output_type": "stream",
     "text": [
      "3\n",
      "False\n",
      "(1, 2, 3, 4, 4, 'Haseeb', 'Subhan', 'Rubab', True, False, 6.2, 5.7)\n",
      "(1, 2, 3, 4, 4)\n",
      "(3, 4, 4, 'Haseeb', 'Subhan')\n",
      "(4, 'Subhan', True, 6.2)\n"
     ]
    }
   ],
   "source": [
    "## Accessing Tuples\n",
    "## Indexing \n",
    "print(tpl[2])\n",
    "print(tpl[9])\n",
    "\n",
    "\n",
    "## Slicing Operations\n",
    "\n",
    "print(tpl[0:])\n",
    "print(tpl[:5])\n",
    "print(tpl[2:7])\n",
    "print(tpl[4::2])\n",
    "\n",
    "\n",
    "## Reverse form"
   ]
  },
  {
   "cell_type": "code",
   "execution_count": 7,
   "id": "b152b0aa",
   "metadata": {},
   "outputs": [
    {
     "name": "stdout",
     "output_type": "stream",
     "text": [
      "1\n",
      "6\n"
     ]
    }
   ],
   "source": [
    "## Operations and Methods \n",
    "\n",
    "print(tpl.count('Subhan'))\n",
    "print(tpl.index('Subhan'))"
   ]
  },
  {
   "cell_type": "code",
   "execution_count": null,
   "id": "31999534",
   "metadata": {},
   "outputs": [
    {
     "name": "stdout",
     "output_type": "stream",
     "text": [
      "(1, 2, 3, 4, 4, 'Haseeb', 'Subhan', 'Rubab', True, False, 6.2, 5.7, 1, 2, 4, 5, 6, 7, 7)\n"
     ]
    }
   ],
   "source": [
    "## Concatenation\n",
    "\n",
    "numbers = (1,2,4,5,6,7,7)\n",
    "\n",
    "mixed_tpl = tpl + numbers\n",
    "\n",
    "print(mixed_tpl)"
   ]
  },
  {
   "cell_type": "code",
   "execution_count": 10,
   "id": "d5eb292c",
   "metadata": {},
   "outputs": [],
   "source": [
    "## Packing and Unpacking\n",
    "\n",
    "tpl = 2,3,4,5,\"haseeb\", '21', \"Microbiology\""
   ]
  },
  {
   "cell_type": "code",
   "execution_count": null,
   "id": "d4882070",
   "metadata": {},
   "outputs": [
    {
     "name": "stdout",
     "output_type": "stream",
     "text": [
      "2\n",
      "[3, 4, 5, 'haseeb', '21']\n",
      "Microbiology\n"
     ]
    }
   ],
   "source": [
    "## Unpacking tuple with *\n",
    "\n",
    "first, *middle, last = tpl\n",
    "\n",
    "print(first)\n",
    "print(middle)\n",
    "print(last)"
   ]
  },
  {
   "cell_type": "code",
   "execution_count": 13,
   "id": "3c37eff8",
   "metadata": {},
   "outputs": [
    {
     "name": "stdout",
     "output_type": "stream",
     "text": [
      "Haseeb\n",
      "subhan\n",
      "Rubab\n"
     ]
    }
   ],
   "source": [
    "## 2nd technique for unpacking tuples\n",
    "\n",
    "tpl = \"Haseeb\", \"subhan\", \"Rubab\"\n",
    "\n",
    "a,b,c = tpl\n",
    "print(a)\n",
    "print(b)\n",
    "print(c)"
   ]
  },
  {
   "cell_type": "code",
   "execution_count": null,
   "id": "6c345a77",
   "metadata": {},
   "outputs": [
    {
     "name": "stdout",
     "output_type": "stream",
     "text": [
      "Hi,2 \n",
      "Hi,3 \n",
      "Hi,4 \n",
      "Hi,5 \n",
      "Hi,haseeb \n",
      "Hi,21 \n",
      "Hi,Microbiology \n"
     ]
    }
   ],
   "source": [
    "## Iterating over tuples\n",
    "tpl = 2,3,4,5,\"haseeb\", '21', \"Microbiology\"\n",
    "\n",
    "\n",
    "for i in tpl:\n",
    "    print(f\"Hi,{i}\")\n",
    "    \n"
   ]
  },
  {
   "cell_type": "code",
   "execution_count": null,
   "id": "b56a33d4",
   "metadata": {},
   "outputs": [],
   "source": [
    "## Nested Tuples\n",
    "\n",
    "nested_list = [[1,2,3,4],['Haseeb','Raza', \"Subhan\"],[True, False, True, False]]\n",
    "\n",
    "nested_tuple = ((1,2,3,4),('Haseeb','Raza', \"Subhan\"),(True, False, True, False))"
   ]
  },
  {
   "cell_type": "code",
   "execution_count": 18,
   "id": "80aef008",
   "metadata": {},
   "outputs": [
    {
     "name": "stdout",
     "output_type": "stream",
     "text": [
      "2\n",
      "4\n",
      "6\n",
      "8\n",
      "HaseebHaseeb\n",
      "RazaRaza\n",
      "SubhanSubhan\n",
      "2\n",
      "0\n",
      "2\n",
      "0\n"
     ]
    }
   ],
   "source": [
    "for i in nested_tuple:\n",
    "    for j in i:\n",
    "        print(f\"{j*2}\")"
   ]
  },
  {
   "cell_type": "code",
   "execution_count": 19,
   "id": "ea07e419",
   "metadata": {},
   "outputs": [],
   "source": [
    "## Nested Tuples\n",
    "\n",
    "nested_list = [[1,2,3,4],['Haseeb','Raza', \"Subhan\"],[True, False, True, False]]\n",
    "\n",
    "nested_tuple = ((1,2,3,4),('Haseeb','Raza', \"Subhan\"),(True, False, True, False))"
   ]
  },
  {
   "cell_type": "code",
   "execution_count": 21,
   "id": "7b02710d",
   "metadata": {},
   "outputs": [
    {
     "name": "stdout",
     "output_type": "stream",
     "text": [
      "[[1, 2, 'UAF', 4], ['Haseeb', 'Raza', 'Subhan'], [True, False, True, False]]\n"
     ]
    }
   ],
   "source": [
    "## Modifying the list element\n",
    "\n",
    "nested_list[0][2] = \"UAF\"\n",
    "print(nested_list)"
   ]
  },
  {
   "cell_type": "code",
   "execution_count": 22,
   "id": "8945d19e",
   "metadata": {},
   "outputs": [
    {
     "ename": "TypeError",
     "evalue": "'tuple' object does not support item assignment",
     "output_type": "error",
     "traceback": [
      "\u001b[1;31m---------------------------------------------------------------------------\u001b[0m",
      "\u001b[1;31mTypeError\u001b[0m                                 Traceback (most recent call last)",
      "Cell \u001b[1;32mIn[22], line 3\u001b[0m\n\u001b[0;32m      1\u001b[0m \u001b[38;5;66;03m## Modifying the Tuple\u001b[39;00m\n\u001b[1;32m----> 3\u001b[0m \u001b[43mnested_tuple\u001b[49m\u001b[43m[\u001b[49m\u001b[38;5;241;43m1\u001b[39;49m\u001b[43m]\u001b[49m\u001b[43m[\u001b[49m\u001b[38;5;241;43m1\u001b[39;49m\u001b[43m]\u001b[49m\u001b[38;5;241m=\u001b[39m\u001b[38;5;124m\"\u001b[39m\u001b[38;5;124mSecond Name\u001b[39m\u001b[38;5;124m\"\u001b[39m\n\u001b[0;32m      5\u001b[0m \u001b[38;5;28mprint\u001b[39m(nested_tuple)\n",
      "\u001b[1;31mTypeError\u001b[0m: 'tuple' object does not support item assignment"
     ]
    }
   ],
   "source": [
    "## Modifying the Tuple\n",
    "\n",
    "nested_tuple[1][1]=\"Second Name\"\n",
    "\n",
    "print(nested_tuple)"
   ]
  }
 ],
 "metadata": {
  "kernelspec": {
   "display_name": "Python 3",
   "language": "python",
   "name": "python3"
  },
  "language_info": {
   "codemirror_mode": {
    "name": "ipython",
    "version": 3
   },
   "file_extension": ".py",
   "mimetype": "text/x-python",
   "name": "python",
   "nbconvert_exporter": "python",
   "pygments_lexer": "ipython3",
   "version": "3.12.0"
  }
 },
 "nbformat": 4,
 "nbformat_minor": 5
}
